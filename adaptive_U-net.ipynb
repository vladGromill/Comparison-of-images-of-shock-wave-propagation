{
 "cells": [
  {
   "cell_type": "code",
   "execution_count": 1,
   "id": "c0b9b4cf-eda3-425b-b399-523c000f9fb4",
   "metadata": {},
   "outputs": [],
   "source": [
    "import torch\n",
    "import torch.nn as nn\n",
    "import torch.nn.functional as F\n",
    "from torch.utils.data import DataLoader\n",
    "from torchvision import transforms\n",
    "from PIL import Image\n",
    "from tqdm import tqdm\n",
    "import os\n",
    "from pathlib import Path\n",
    "import matplotlib.pyplot as plt"
   ]
  },
  {
   "cell_type": "code",
   "execution_count": 3,
   "id": "b9b6173a-6e84-4107-9cea-c5328dc647d5",
   "metadata": {},
   "outputs": [],
   "source": [
    "class AdaptiveUNet(nn.Module):\n",
    "    def __init__(self, in_channels=1, out_channels=1, init_features=32):\n",
    "        super(AdaptiveUNet, self).__init__()\n",
    "        \n",
    "        # Энкодер\n",
    "        self.encoder1 = self._block(in_channels, init_features)\n",
    "        self.pool1 = nn.AdaptiveMaxPool2d((64, 128))  # Адаптивный пулинг\n",
    "        self.encoder2 = self._block(init_features, init_features * 2)\n",
    "        self.pool2 = nn.AdaptiveMaxPool2d((32, 64))   # Адаптивный пулинг\n",
    "        self.encoder3 = self._block(init_features * 2, init_features * 4)\n",
    "        self.pool3 = nn.AdaptiveMaxPool2d((16, 32))   # Адаптивный пулинг\n",
    "        self.encoder4 = self._block(init_features * 4, init_features * 8)\n",
    "        self.pool4 = nn.AdaptiveMaxPool2d((8, 16))    # Адаптивный пулинг\n",
    "\n",
    "        # Боттлнек\n",
    "        self.bottleneck = self._block(init_features * 8, init_features * 16)\n",
    "\n",
    "        # Декодер\n",
    "        self.upconv4 = nn.ConvTranspose2d(init_features * 16, init_features * 8, kernel_size=2, stride=2)\n",
    "        self.decoder4 = self._block(init_features * 16, init_features * 8)\n",
    "        self.upconv3 = nn.ConvTranspose2d(init_features * 8, init_features * 4, kernel_size=2, stride=2)\n",
    "        self.decoder3 = self._block(init_features * 8, init_features * 4)\n",
    "        self.upconv2 = nn.ConvTranspose2d(init_features * 4, init_features * 2, kernel_size=2, stride=2)\n",
    "        self.decoder2 = self._block(init_features * 4, init_features * 2)\n",
    "        self.upconv1 = nn.ConvTranspose2d(init_features * 2, init_features, kernel_size=2, stride=2)\n",
    "        self.decoder1 = self._block(init_features * 2, init_features)\n",
    "\n",
    "        # Выходной слой\n",
    "        self.conv = nn.Conv2d(init_features, out_channels, kernel_size=1)\n",
    "\n",
    "    def forward(self, x):\n",
    "        # Энкодер\n",
    "        enc1 = self.encoder1(x)\n",
    "        enc2 = self.encoder2(self.pool1(enc1))\n",
    "        enc3 = self.encoder3(self.pool2(enc2))\n",
    "        enc4 = self.encoder4(self.pool3(enc3))\n",
    "\n",
    "        # Боттлнек\n",
    "        bottleneck = self.bottleneck(self.pool4(enc4))\n",
    "\n",
    "        # Декодер\n",
    "        dec4 = self.upconv4(bottleneck)\n",
    "        dec4 = self._adjust_size(dec4, enc4)  # Корректируем размер\n",
    "        dec4 = torch.cat((dec4, enc4), dim=1)\n",
    "        dec4 = self.decoder4(dec4)\n",
    "\n",
    "        dec3 = self.upconv3(dec4)\n",
    "        dec3 = self._adjust_size(dec3, enc3)  # Корректируем размер\n",
    "        dec3 = torch.cat((dec3, enc3), dim=1)\n",
    "        dec3 = self.decoder3(dec3)\n",
    "\n",
    "        dec2 = self.upconv2(dec3)\n",
    "        dec2 = self._adjust_size(dec2, enc2)  # Корректируем размер\n",
    "        dec2 = torch.cat((dec2, enc2), dim=1)\n",
    "        dec2 = self.decoder2(dec2)\n",
    "\n",
    "        dec1 = self.upconv1(dec2)\n",
    "        dec1 = self._adjust_size(dec1, enc1)  # Корректируем размер\n",
    "        dec1 = torch.cat((dec1, enc1), dim=1)\n",
    "        dec1 = self.decoder1(dec1)\n",
    "\n",
    "        # Выход\n",
    "        return torch.sigmoid(self.conv(dec1))\n",
    "\n",
    "    def _block(self, in_channels, features):\n",
    "        return nn.Sequential(\n",
    "            nn.Conv2d(in_channels, features, kernel_size=3, padding=1),\n",
    "            nn.BatchNorm2d(features),\n",
    "            nn.ReLU(inplace=True),\n",
    "            nn.Conv2d(features, features, kernel_size=3, padding=1),\n",
    "            nn.BatchNorm2d(features),\n",
    "            nn.ReLU(inplace=True)\n",
    "        )\n",
    "\n",
    "    def _adjust_size(self, tensor, target_tensor):\n",
    "        \"\"\"\n",
    "        Корректирует размер tensor до размера target_tensor.\n",
    "        \"\"\"\n",
    "        if tensor.size()[2:] != target_tensor.size()[2:]:\n",
    "            tensor = F.interpolate(tensor, size=target_tensor.size()[2:], mode='bicubic', align_corners=True)\n",
    "        return tensor\n",
    "        "
   ]
  },
  {
   "cell_type": "code",
   "execution_count": 2,
   "id": "ad8fe0bb-5b7d-4b10-a0f8-27b39b5c322a",
   "metadata": {},
   "outputs": [],
   "source": [
    "class AttentionGate(nn.Module):\n",
    "    def __init__(self, F_g, F_x, F_int):\n",
    "        super().__init__()\n",
    "        self.W_g = nn.Sequential(\n",
    "            nn.Conv2d(F_g, F_int, kernel_size=1, stride=1, padding=0, bias=False),\n",
    "            nn.BatchNorm2d(F_int)\n",
    "        )\n",
    "        self.W_x = nn.Sequential(\n",
    "            nn.Conv2d(F_x, F_int, kernel_size=1, stride=1, padding=0, bias=False),\n",
    "            nn.BatchNorm2d(F_int)\n",
    "        )\n",
    "        self.psi = nn.Sequential(\n",
    "            nn.Conv2d(F_int, 1, kernel_size=1, stride=1, padding=0, bias=False),\n",
    "            nn.BatchNorm2d(1),\n",
    "            nn.Sigmoid()\n",
    "        )\n",
    "        self.relu = nn.ReLU(inplace=True)\n",
    "\n",
    "    def forward(self, g, x):\n",
    "        g1 = self.W_g(g)\n",
    "        x1 = self.W_x(x)\n",
    "        \n",
    "        # Корректируем размер g1 до размера x1\n",
    "        if g1.size()[2:] != x1.size()[2:]:\n",
    "            g1 = F.interpolate(g1, size=x1.size()[2:], mode='bicubic', align_corners=True)\n",
    "        \n",
    "        psi = self.relu(g1 + x1)\n",
    "        psi = self.psi(psi)\n",
    "        return x * psi"
   ]
  },
  {
   "cell_type": "code",
   "execution_count": 3,
   "id": "e2022e38-76e9-4249-af33-c8f3a56d5d35",
   "metadata": {},
   "outputs": [],
   "source": [
    "class AdaptiveUNetAttencion(nn.Module):\n",
    "    def __init__(self, in_channels=1, out_channels=1, init_features=32):\n",
    "        super().__init__()\n",
    "        \n",
    "        # Энкодер (без изменений)\n",
    "        self.encoder1 = self._block(in_channels, init_features)\n",
    "        self.pool1 = nn.AdaptiveMaxPool2d((64, 128))  # Адаптивный пулинг\n",
    "        self.encoder2 = self._block(init_features, init_features * 2)\n",
    "        self.pool2 = nn.AdaptiveMaxPool2d((32, 64))   # Адаптивный пулинг\n",
    "        self.encoder3 = self._block(init_features * 2, init_features * 4)\n",
    "        self.pool3 = nn.AdaptiveMaxPool2d((16, 32))   # Адаптивный пулинг\n",
    "        self.encoder4 = self._block(init_features * 4, init_features * 8)\n",
    "        self.pool4 = nn.AdaptiveMaxPool2d((8, 16))    # Адаптивный пулинг\n",
    "\n",
    "        # Боттлнек (без изменений)\n",
    "        self.bottleneck = self._block(init_features * 8, init_features * 16)\n",
    "\n",
    "        # Декодер (без изменений)\n",
    "        self.upconv4 = nn.ConvTranspose2d(init_features * 16, init_features * 8, kernel_size=2, stride=2)\n",
    "        self.decoder4 = self._block(init_features * 16, init_features * 8)\n",
    "        self.upconv3 = nn.ConvTranspose2d(init_features * 8, init_features * 4, kernel_size=2, stride=2)\n",
    "        self.decoder3 = self._block(init_features * 8, init_features * 4)\n",
    "        self.upconv2 = nn.ConvTranspose2d(init_features * 4, init_features * 2, kernel_size=2, stride=2)\n",
    "        self.decoder2 = self._block(init_features * 4, init_features * 2)\n",
    "        self.upconv1 = nn.ConvTranspose2d(init_features * 2, init_features, kernel_size=2, stride=2)\n",
    "        self.decoder1 = self._block(init_features * 2, init_features)\n",
    "\n",
    "        # Выходной слой (без изменений)\n",
    "        self.conv = nn.Conv2d(init_features, out_channels, kernel_size=1)\n",
    "\n",
    "        # Attention Gates\n",
    "        self.attn4 = AttentionGate(init_features*8, init_features*8, init_features*4)\n",
    "        self.attn3 = AttentionGate(init_features*4, init_features*4, init_features*2)\n",
    "        self.attn2 = AttentionGate(init_features*2, init_features*2, init_features)\n",
    "        self.attn1 = AttentionGate(init_features, init_features, init_features//2)\n",
    "\n",
    "    def forward(self, x):\n",
    "        # Энкодер (без изменений)\n",
    "        enc1 = self.encoder1(x)\n",
    "        enc2 = self.encoder2(self.pool1(enc1))\n",
    "        enc3 = self.encoder3(self.pool2(enc2))\n",
    "        enc4 = self.encoder4(self.pool3(enc3))\n",
    "\n",
    "        # Боттлнек (без изменений)\n",
    "        bottleneck = self.bottleneck(self.pool4(enc4))\n",
    "\n",
    "        # Декодер с Attention\n",
    "        dec4 = self.upconv4(bottleneck)\n",
    "        dec4 = self._adjust_size(dec4, enc4)  # Корректируем размер\n",
    "        enc4 = self.attn4(dec4, enc4)  # Применяем внимание\n",
    "        dec4 = torch.cat((dec4, enc4), dim=1)\n",
    "        dec4 = self.decoder4(dec4)\n",
    "\n",
    "        dec3 = self.upconv3(dec4)\n",
    "        dec3 = self._adjust_size(dec3, enc3)  # Корректируем размер\n",
    "        enc3 = self.attn3(dec3, enc3)  # Применяем внимание\n",
    "        dec3 = torch.cat((dec3, enc3), dim=1)\n",
    "        dec3 = self.decoder3(dec3)\n",
    "\n",
    "        dec2 = self.upconv2(dec3)\n",
    "        dec2 = self._adjust_size(dec2, enc2)  # Корректируем размер\n",
    "        enc2 = self.attn2(dec2, enc2)  # Применяем внимание\n",
    "        dec2 = torch.cat((dec2, enc2), dim=1)\n",
    "        dec2 = self.decoder2(dec2)\n",
    "\n",
    "        dec1 = self.upconv1(dec2)\n",
    "        dec1 = self._adjust_size(dec1, enc1)  # Корректируем размер\n",
    "        enc1 = self.attn1(dec1, enc1)  # Применяем внимание\n",
    "        dec1 = torch.cat((dec1, enc1), dim=1)\n",
    "        dec1 = self.decoder1(dec1)\n",
    "\n",
    "        # Выход (без изменений)\n",
    "        return torch.sigmoid(self.conv(dec1))\n",
    "\n",
    "    def _block(self, in_channels, features):\n",
    "        return nn.Sequential(\n",
    "            nn.Conv2d(in_channels, features, kernel_size=3, padding=1),\n",
    "            nn.BatchNorm2d(features),\n",
    "            nn.ReLU(inplace=True),\n",
    "            nn.Conv2d(features, features, kernel_size=3, padding=1),\n",
    "            nn.BatchNorm2d(features),\n",
    "            nn.ReLU(inplace=True)\n",
    "        )\n",
    "\n",
    "    def _adjust_size(self, tensor, target_tensor):\n",
    "        \"\"\"\n",
    "        Корректирует размер tensor до размера target_tensor.\n",
    "        \"\"\"\n",
    "        if tensor.size()[2:] != target_tensor.size()[2:]:\n",
    "            tensor = F.interpolate(tensor, size=target_tensor.size()[2:], mode='bicubic', align_corners=True)\n",
    "        return tensor"
   ]
  },
  {
   "cell_type": "code",
   "execution_count": 4,
   "id": "abf8bcea-4850-487d-aeaa-ae7109c5786f",
   "metadata": {},
   "outputs": [],
   "source": [
    "class NoisyCleanDataset(DataLoader):\n",
    "    def __init__(self, noisy_images, clean_images, path_to_folder, transform=None):\n",
    "        self.noisy_images = noisy_images\n",
    "        self.clean_images = clean_images\n",
    "        self.path_to_folder = path_to_folder\n",
    "        self.transform = transform\n",
    "\n",
    "    def __len__(self):\n",
    "        return len(self.noisy_images)\n",
    "\n",
    "    def __getitem__(self, idx):\n",
    "        path_to_clean = str(Path(self.path_to_folder, self.clean_images[idx]))\n",
    "        path_to_noisy = str(Path(self.path_to_folder, self.noisy_images[idx]))\n",
    "        clean_image = Image.open(path_to_clean).convert('L')\n",
    "        noisy_image = Image.open(path_to_noisy).convert('L')\n",
    "\n",
    "        if self.transform:\n",
    "            clean_image = self.transform(clean_image)\n",
    "            noisy_image = self.transform(noisy_image)\n",
    "        return noisy_image, clean_image\n",
    "\n",
    "def custom_collate_fn(batch):\n",
    "    noisy_images = [item[0] for item in batch]\n",
    "    clean_images = [item[1] for item in batch]\n",
    "    return noisy_images, clean_images"
   ]
  },
  {
   "cell_type": "code",
   "execution_count": 5,
   "id": "84de63c5-93e7-4a77-96f2-fae348cd9704",
   "metadata": {},
   "outputs": [],
   "source": [
    "transform = transforms.Compose(\n",
    "    [transforms.ToTensor()]\n",
    ")"
   ]
  },
  {
   "cell_type": "code",
   "execution_count": 6,
   "id": "41b0af74-093c-4145-a2dc-4e2d36dd272a",
   "metadata": {},
   "outputs": [],
   "source": [
    "PATH_TO_DATASET = str(Path(os.getcwd(), \"project_C++/Code/results_pictures_dataset\"))\n",
    "\n",
    "images = [f for f in os.listdir(PATH_TO_DATASET) if f.endswith('.png')]\n",
    "\n",
    "images_pairs = {}\n",
    "\n",
    "for image in images:\n",
    "    if 'noisy' in image:\n",
    "        number = image[3:].split('_')[0] if 'stretched' not in image else image[3:].split('_')[0] + 'stret'\n",
    "        if number not in images_pairs:\n",
    "            images_pairs[number] = {}\n",
    "        images_pairs[number]['noisy'] = image\n",
    "    else:\n",
    "        number = image[3:].split('_')[0] + 'stret' if 'stretched' in image else image[3:].split('.')[0]\n",
    "        if number not in images_pairs:\n",
    "            images_pairs[number] = {}\n",
    "        images_pairs[number]['clean'] = image\n",
    "\n",
    "noisy_images = []\n",
    "clean_images = []\n",
    "\n",
    "for pair in images_pairs:\n",
    "    noisy_images.append(images_pairs[pair]['noisy'])\n",
    "    clean_images.append(images_pairs[pair]['clean'])\n"
   ]
  },
  {
   "cell_type": "code",
   "execution_count": 7,
   "id": "dccd85d0-8e28-40bc-b540-c55a4448995e",
   "metadata": {},
   "outputs": [],
   "source": [
    "def plot_metrics(train_losses, val_losses=None):\n",
    "    \"\"\"\n",
    "    Функция для построения графиков потерь.\n",
    "    \"\"\"\n",
    "    plt.figure(figsize=(10, 5))\n",
    "    plt.plot(train_losses, label='Train Loss')\n",
    "    if val_losses:\n",
    "        plt.plot(val_losses, label='Validation Loss')\n",
    "    plt.xlabel('Epoch')\n",
    "    plt.ylabel('Loss')\n",
    "    plt.title('Training and Validation Loss')\n",
    "    plt.legend()\n",
    "    plt.grid(True)\n",
    "    plt.show()"
   ]
  },
  {
   "cell_type": "code",
   "execution_count": 9,
   "id": "56e25657-4514-42cf-8d15-aecc8c64bcbd",
   "metadata": {},
   "outputs": [],
   "source": [
    "dataset = NoisyCleanDataset(noisy_images, clean_images, PATH_TO_DATASET, transform)\n",
    "dataloader = DataLoader(dataset, batch_size=32, shuffle=True, collate_fn=custom_collate_fn)\n",
    "model = AdaptiveUNetAttencion(in_channels=1, out_channels=1)\n",
    "optimizer = torch.optim.Adam(model.parameters(), lr=1e-3)\n",
    "criterion = nn.MSELoss()  \n",
    "\n",
    "checkpoint = torch.load('checkpoint_epoch_4.pth')\n",
    "model.load_state_dict(checkpoint['model_state_dict'])\n",
    "optimizer.load_state_dict(checkpoint['optimizer_state_dict'])\n",
    "start_epoch = 4"
   ]
  },
  {
   "cell_type": "code",
   "execution_count": 10,
   "id": "094096b0-e34c-4faf-af71-7ada27adb62d",
   "metadata": {},
   "outputs": [
    {
     "name": "stdout",
     "output_type": "stream",
     "text": [
      "Number of epoch: 5\n"
     ]
    },
    {
     "name": "stderr",
     "output_type": "stream",
     "text": [
      "Batch: 100%|████████████████████████████████████████████████████████████████████| 1987/1987 [11:58:18<00:00, 21.69s/it]\n"
     ]
    },
    {
     "data": {
      "image/png": "[encoded data removed]",
      "text/plain": [
       "<Figure size 1000x500 with 1 Axes>"
      ]
     },
     "metadata": {},
     "output_type": "display_data"
    },
    {
     "name": "stdout",
     "output_type": "stream",
     "text": [
      "Epoch 5, Loss: 0.002938010567382551\n",
      "Number of epoch: 6\n"
     ]
    },
    {
     "name": "stderr",
     "output_type": "stream",
     "text": [
      "Batch:  10%|██████▋                                                            | 197/1987 [1:11:04<10:45:52, 21.65s/it]\n"
     ]
    },
    {
     "ename": "KeyboardInterrupt",
     "evalue": "",
     "output_type": "error",
     "traceback": [
      "\u001b[31m---------------------------------------------------------------------------\u001b[39m",
      "\u001b[31mKeyboardInterrupt\u001b[39m                         Traceback (most recent call last)",
      "\u001b[36mCell\u001b[39m\u001b[36m \u001b[39m\u001b[32mIn[10]\u001b[39m\u001b[32m, line 24\u001b[39m\n\u001b[32m     21\u001b[39m loss = criterion(output, clean)\n\u001b[32m     23\u001b[39m \u001b[38;5;66;03m# Backward pass\u001b[39;00m\n\u001b[32m---> \u001b[39m\u001b[32m24\u001b[39m \u001b[43mloss\u001b[49m\u001b[43m.\u001b[49m\u001b[43mbackward\u001b[49m\u001b[43m(\u001b[49m\u001b[43m)\u001b[49m\n\u001b[32m     25\u001b[39m optimizer.step()\n\u001b[32m     27\u001b[39m \u001b[38;5;66;03m# Суммируем loss для вывода\u001b[39;00m\n",
      "\u001b[36mFile \u001b[39m\u001b[32m~\\OneDrive\\Рабочий стол\\МГУ МЕХМАТ\\курсовая 4 курс\\myenv\\Lib\\site-packages\\torch\\_tensor.py:626\u001b[39m, in \u001b[36mTensor.backward\u001b[39m\u001b[34m(self, gradient, retain_graph, create_graph, inputs)\u001b[39m\n\u001b[32m    616\u001b[39m \u001b[38;5;28;01mif\u001b[39;00m has_torch_function_unary(\u001b[38;5;28mself\u001b[39m):\n\u001b[32m    617\u001b[39m     \u001b[38;5;28;01mreturn\u001b[39;00m handle_torch_function(\n\u001b[32m    618\u001b[39m         Tensor.backward,\n\u001b[32m    619\u001b[39m         (\u001b[38;5;28mself\u001b[39m,),\n\u001b[32m   (...)\u001b[39m\u001b[32m    624\u001b[39m         inputs=inputs,\n\u001b[32m    625\u001b[39m     )\n\u001b[32m--> \u001b[39m\u001b[32m626\u001b[39m \u001b[43mtorch\u001b[49m\u001b[43m.\u001b[49m\u001b[43mautograd\u001b[49m\u001b[43m.\u001b[49m\u001b[43mbackward\u001b[49m\u001b[43m(\u001b[49m\n\u001b[32m    627\u001b[39m \u001b[43m    \u001b[49m\u001b[38;5;28;43mself\u001b[39;49m\u001b[43m,\u001b[49m\u001b[43m \u001b[49m\u001b[43mgradient\u001b[49m\u001b[43m,\u001b[49m\u001b[43m \u001b[49m\u001b[43mretain_graph\u001b[49m\u001b[43m,\u001b[49m\u001b[43m \u001b[49m\u001b[43mcreate_graph\u001b[49m\u001b[43m,\u001b[49m\u001b[43m \u001b[49m\u001b[43minputs\u001b[49m\u001b[43m=\u001b[49m\u001b[43minputs\u001b[49m\n\u001b[32m    628\u001b[39m \u001b[43m\u001b[49m\u001b[43m)\u001b[49m\n",
      "\u001b[36mFile \u001b[39m\u001b[32m~\\OneDrive\\Рабочий стол\\МГУ МЕХМАТ\\курсовая 4 курс\\myenv\\Lib\\site-packages\\torch\\autograd\\__init__.py:347\u001b[39m, in \u001b[36mbackward\u001b[39m\u001b[34m(tensors, grad_tensors, retain_graph, create_graph, grad_variables, inputs)\u001b[39m\n\u001b[32m    342\u001b[39m     retain_graph = create_graph\n\u001b[32m    344\u001b[39m \u001b[38;5;66;03m# The reason we repeat the same comment below is that\u001b[39;00m\n\u001b[32m    345\u001b[39m \u001b[38;5;66;03m# some Python versions print out the first line of a multi-line function\u001b[39;00m\n\u001b[32m    346\u001b[39m \u001b[38;5;66;03m# calls in the traceback and some print out the last line\u001b[39;00m\n\u001b[32m--> \u001b[39m\u001b[32m347\u001b[39m \u001b[43m_engine_run_backward\u001b[49m\u001b[43m(\u001b[49m\n\u001b[32m    348\u001b[39m \u001b[43m    \u001b[49m\u001b[43mtensors\u001b[49m\u001b[43m,\u001b[49m\n\u001b[32m    349\u001b[39m \u001b[43m    \u001b[49m\u001b[43mgrad_tensors_\u001b[49m\u001b[43m,\u001b[49m\n\u001b[32m    350\u001b[39m \u001b[43m    \u001b[49m\u001b[43mretain_graph\u001b[49m\u001b[43m,\u001b[49m\n\u001b[32m    351\u001b[39m \u001b[43m    \u001b[49m\u001b[43mcreate_graph\u001b[49m\u001b[43m,\u001b[49m\n\u001b[32m    352\u001b[39m \u001b[43m    \u001b[49m\u001b[43minputs\u001b[49m\u001b[43m,\u001b[49m\n\u001b[32m    353\u001b[39m \u001b[43m    \u001b[49m\u001b[43mallow_unreachable\u001b[49m\u001b[43m=\u001b[49m\u001b[38;5;28;43;01mTrue\u001b[39;49;00m\u001b[43m,\u001b[49m\n\u001b[32m    354\u001b[39m \u001b[43m    \u001b[49m\u001b[43maccumulate_grad\u001b[49m\u001b[43m=\u001b[49m\u001b[38;5;28;43;01mTrue\u001b[39;49;00m\u001b[43m,\u001b[49m\n\u001b[32m    355\u001b[39m \u001b[43m\u001b[49m\u001b[43m)\u001b[49m\n",
      "\u001b[36mFile \u001b[39m\u001b[32m~\\OneDrive\\Рабочий стол\\МГУ МЕХМАТ\\курсовая 4 курс\\myenv\\Lib\\site-packages\\torch\\autograd\\graph.py:823\u001b[39m, in \u001b[36m_engine_run_backward\u001b[39m\u001b[34m(t_outputs, *args, **kwargs)\u001b[39m\n\u001b[32m    821\u001b[39m     unregister_hooks = _register_logging_hooks_on_whole_graph(t_outputs)\n\u001b[32m    822\u001b[39m \u001b[38;5;28;01mtry\u001b[39;00m:\n\u001b[32m--> \u001b[39m\u001b[32m823\u001b[39m     \u001b[38;5;28;01mreturn\u001b[39;00m \u001b[43mVariable\u001b[49m\u001b[43m.\u001b[49m\u001b[43m_execution_engine\u001b[49m\u001b[43m.\u001b[49m\u001b[43mrun_backward\u001b[49m\u001b[43m(\u001b[49m\u001b[43m  \u001b[49m\u001b[38;5;66;43;03m# Calls into the C++ engine to run the backward pass\u001b[39;49;00m\n\u001b[32m    824\u001b[39m \u001b[43m        \u001b[49m\u001b[43mt_outputs\u001b[49m\u001b[43m,\u001b[49m\u001b[43m \u001b[49m\u001b[43m*\u001b[49m\u001b[43margs\u001b[49m\u001b[43m,\u001b[49m\u001b[43m \u001b[49m\u001b[43m*\u001b[49m\u001b[43m*\u001b[49m\u001b[43mkwargs\u001b[49m\n\u001b[32m    825\u001b[39m \u001b[43m    \u001b[49m\u001b[43m)\u001b[49m  \u001b[38;5;66;03m# Calls into the C++ engine to run the backward pass\u001b[39;00m\n\u001b[32m    826\u001b[39m \u001b[38;5;28;01mfinally\u001b[39;00m:\n\u001b[32m    827\u001b[39m     \u001b[38;5;28;01mif\u001b[39;00m attach_logging_hooks:\n",
      "\u001b[31mKeyboardInterrupt\u001b[39m: "
     ]
    }
   ],
   "source": [
    "device = torch.device('cuda' if torch.cuda.is_available() else 'cpu')\n",
    "n_epochs = 10\n",
    "train_losses = []\n",
    "for epoch in range(start_epoch, n_epochs):\n",
    "    epoch_loss = 0.0\n",
    "    print(f\"Number of epoch: {epoch + 1}\")\n",
    "    for noisy_batch, clean_batch in tqdm(dataloader, desc='Batch', leave=True):\n",
    "        # Итерируемся по каждому изображению в батче\n",
    "        for noisy, clean in zip(noisy_batch, clean_batch):\n",
    "            # Добавляем batch dimension (если его нет)\n",
    "            noisy = noisy.unsqueeze(0)  # Теперь размер: [1, C, H, W]\n",
    "            clean = clean.unsqueeze(0)  # Теперь размер: [1, C, H, W]\n",
    "\n",
    "            # Перемещаем данные на устройство (например, GPU)\n",
    "            noisy = noisy.to(device)\n",
    "            clean = clean.to(device)\n",
    "\n",
    "            # Forward pass\n",
    "            optimizer.zero_grad()\n",
    "            output = model(noisy)\n",
    "            loss = criterion(output, clean)\n",
    "\n",
    "            # Backward pass\n",
    "            loss.backward()\n",
    "            optimizer.step()\n",
    "\n",
    "            # Суммируем loss для вывода\n",
    "            epoch_loss += loss.item()\n",
    "            \n",
    "    epoch_loss /= len(dataloader)\n",
    "    train_losses.append(epoch_loss)\n",
    "    \n",
    "    # torch.save(model.state_dict(), f'model_weights_epoch_{epoch + 1}_attencion.pth')\n",
    "    checkpoint = {\n",
    "        'epoch': epoch + 1,  # Сохраняем номер эпохи, начиная с 1\n",
    "        'model_state_dict': model.state_dict(),\n",
    "        'optimizer_state_dict': optimizer.state_dict(),\n",
    "        'loss': epoch_loss,  # Сохраняем средний loss за эпоху\n",
    "    }\n",
    "    torch.save(checkpoint, f'checkpoint_epoch_{epoch + 1}.pth')\n",
    "    plot_metrics(train_losses)\n",
    "    # Выводим средний loss за эпоху\n",
    "    print(f\"Epoch {epoch+1}, Loss: {epoch_loss}\")"
   ]
  },
  {
   "cell_type": "code",
   "execution_count": 9,
   "id": "116d3fe3-f75b-4306-842f-6425b1aba556",
   "metadata": {},
   "outputs": [
    {
     "data": {
      "text/plain": [
       "0.01649939088450151"
      ]
     },
     "execution_count": 9,
     "metadata": {},
     "output_type": "execute_result"
    }
   ],
   "source": [
    "epoch_loss"
   ]
  },
  {
   "cell_type": "code",
   "execution_count": 13,
   "id": "38eafc01-9f93-4a3b-9d60-e9f0400e3d2b",
   "metadata": {},
   "outputs": [
    {
     "data": {
      "text/plain": [
       "0.013092835880333433"
      ]
     },
     "execution_count": 13,
     "metadata": {},
     "output_type": "execute_result"
    }
   ],
   "source": [
    "train_losses[0]"
   ]
  },
  {
   "cell_type": "code",
   "execution_count": 31,
   "id": "c2dc6ba3-bad9-4962-a300-d654c365da2e",
   "metadata": {},
   "outputs": [
    {
     "data": {
      "text/plain": [
       "0.006005769819108595"
      ]
     },
     "execution_count": 31,
     "metadata": {},
     "output_type": "execute_result"
    }
   ],
   "source": [
    "train_losses[0] # вторая эпоха"
   ]
  },
  {
   "cell_type": "code",
   "execution_count": 11,
   "id": "ed0a153c-10c3-493b-8c45-ae5262307567",
   "metadata": {},
   "outputs": [
    {
     "data": {
      "text/plain": [
       "0.0044857156334741"
      ]
     },
     "execution_count": 11,
     "metadata": {},
     "output_type": "execute_result"
    }
   ],
   "source": [
    "train_losses[0] # третья эпоха"
   ]
  },
  {
   "cell_type": "code",
   "execution_count": 11,
   "id": "35df2b81-3411-4609-93fc-5f535b3025d3",
   "metadata": {},
   "outputs": [
    {
     "data": {
      "text/plain": [
       "0.002938010567382551"
      ]
     },
     "execution_count": 11,
     "metadata": {},
     "output_type": "execute_result"
    }
   ],
   "source": [
    "train_losses[0] # пятая эпоха"
   ]
  },
  {
   "cell_type": "markdown",
   "id": "1a9da38b-d1aa-4554-9e5b-e7ff82710b42",
   "metadata": {},
   "source": [
    "# Test model"
   ]
  },
  {
   "cell_type": "code",
   "execution_count": 21,
   "id": "c73e3865-c329-4da2-8d99-3c94bd8dc1f4",
   "metadata": {},
   "outputs": [
    {
     "data": {
      "image/png": "[encoded data removed]",
      "text/plain": [
       "<Figure size 1000x600 with 1 Axes>"
      ]
     },
     "metadata": {},
     "output_type": "display_data"
    }
   ],
   "source": [
    "import torch\n",
    "import matplotlib.pyplot as plt\n",
    "\n",
    "epochs = [1, 2, 3, 4, 5]\n",
    "train_losses = []\n",
    "\n",
    "for epoch in epochs:\n",
    "    checkpoint = torch.load(f'checkpoint_epoch_{epoch}.pth')\n",
    "    train_losses.append(checkpoint['loss'])\n",
    "\n",
    "plt.figure(figsize=(10, 6))\n",
    "plt.plot(epochs, train_losses, color='royalblue', linestyle='-', marker='o', markersize=3, label=\"Train loss curve\")\n",
    "plt.scatter(epochs, train_losses, color='red', marker='*', s=150, label=\"Loss at each epoch\")  # Увеличенные звездочки\n",
    "\n",
    "plt.xlabel(\"Epoch\", fontsize=14)\n",
    "plt.ylabel(\"Train Loss\", fontsize=14)\n",
    "plt.title(\"Training Loss Over Epochs\", fontsize=16, fontweight='bold')\n",
    "\n",
    "plt.xticks(epochs, fontsize=12)  \n",
    "plt.yticks(fontsize=12)\n",
    "\n",
    "plt.grid(True, linestyle='--', alpha=0.6)\n",
    "plt.legend(fontsize=12)\n",
    "\n",
    "plt.show()\n"
   ]
  },
  {
   "cell_type": "code",
   "execution_count": 27,
   "id": "3db3d2ae-7629-4b31-9d50-b16213e1d5a5",
   "metadata": {},
   "outputs": [],
   "source": [
    "model = AdaptiveUNetAttencion(in_channels=1, out_channels=1)\n",
    "\n",
    "model.load_state_dict(torch.load(\"checkpoint_epoch_2.pth\")['model_state_dict'])\n",
    "model.eval()\n",
    "\n",
    "def predict(image_path, model, device='cpu'):\n",
    "    image = Image.open(image_path).convert('L')\n",
    "    image_tensor = transform(image).unsqueeze(0).to(device) \n",
    "    with torch.no_grad():\n",
    "        output = model(image_tensor)\n",
    "    return transforms.ToPILImage()(output.squeeze(0).cpu())"
   ]
  },
  {
   "cell_type": "code",
   "execution_count": 28,
   "id": "37968fbb-dc81-4aaf-af60-fea498791eb2",
   "metadata": {},
   "outputs": [],
   "source": [
    "PATH_TO_TRAIN = Path(os.getcwd(), 'project_C++', 'Code', 'results_pictures_dataset')\n",
    "list_images = ['fld00017_noisy.png', 'fld00032_noisy_noisy_stretched_3.5x.png']\n",
    "for i, path in enumerate(list_images):\n",
    "    cur_path = str(Path(PATH_TO_TRAIN, path))\n",
    "    output_image = predict(cur_path, model)\n",
    "    output_image.save(str(Path('test pictures', 'train', f'second_model_train_{i}_epoch_2.png')))"
   ]
  },
  {
   "cell_type": "code",
   "execution_count": 29,
   "id": "473b1ff1-7e3f-4a92-af69-e959acc28069",
   "metadata": {},
   "outputs": [],
   "source": [
    "PATH_TO_TEST = str(Path(Path(os.getcwd()).parent, 'курсовая 4 курс/работа с картинками/ластовый эксперимент/экспериментальные'))\n",
    "list_images = ['frame24.png', 'frame53.png', 'frame30.png']\n",
    "for i, path in enumerate(list_images):\n",
    "    cur_path = str(Path(PATH_TO_TEST, path))\n",
    "    output_image = predict(cur_path, model)\n",
    "    output_image.save(str(Path('test pictures', 'test', f'second_model_test_{i}_epoch_2.png')))"
   ]
  },
  {
   "cell_type": "code",
   "execution_count": null,
   "id": "9c800671-c168-4cfb-882e-f09f452056d7",
   "metadata": {},
   "outputs": [],
   "source": []
  }
 ],
 "metadata": {
  "kernelspec": {
   "display_name": "Python 3 (ipykernel)",
   "language": "python",
   "name": "python3"
  },
  "language_info": {
   "codemirror_mode": {
    "name": "ipython",
    "version": 3
   },
   "file_extension": ".py",
   "mimetype": "text/x-python",
   "name": "python",
   "nbconvert_exporter": "python",
   "pygments_lexer": "ipython3",
   "version": "3.11.6"
  }
 },
 "nbformat": 4,
 "nbformat_minor": 5
}
